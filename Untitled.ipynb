{
 "cells": [
  {
   "cell_type": "markdown",
   "metadata": {},
   "source": [
    "Создадим функции преобразования для данных смс. Номера телефонов 11 знаков (пример: 09061701461), есть e-mail'ы и ссылки. Их меняем на токены ('§p' для номера телефона, '§m' для адреса почты, '§w' для ссылки, '§d' для дат)"
   ]
  },
  {
   "cell_type": "code",
   "execution_count": 4,
   "metadata": {},
   "outputs": [],
   "source": [
    "import re\n",
    "def get_text(text):\n",
    "    return re.sub(r'[^a-z §p§m§w§n]', '', re.sub(r'(\\d?\\d.?st)|(\\d?\\d.?nd)|(\\d?\\d.?rd)|(\\d?\\d.?th)', ' §m ', re.sub(r'(\\S+\\.(\\w{2,3})\\S+)', ' §w ', re.sub(r'(www.+\\.(\\w{2,3})\\S+)|(wap.+\\.(\\w{2,3})\\S+)', ' §w ', re.sub(r'(htt.+\\.(\\w{2,3})\\S+)', ' §w ', re.sub(r'(\\w+)@(\\w+)\\.(\\w{2,3})', ' §m ', text.lower()))))))\n",
    "    #return re.sub(r'[^a-z §p§m§w§n]', '', re.sub(r'(\\S+\\.(\\w{2,3})\\S+)', ' §w ', re.sub(r'(www.+\\.(\\w{2,3})\\S+)|(wap.+\\.(\\w{2,3})\\S+)', ' §w ', re.sub(r'(htt.+\\.(\\w{2,3})\\S+)', ' §w ', re.sub(r'(0\\d{10})', ' §p ',re.sub(r'(\\w+)@(\\w+)\\.(\\w{2,3})', ' §m ', text.lower()))))))\n",
    "    #return re.sub(r'[^a-z §p§m§w§n]', '', re.sub(r'\\d', ' §n ', re.sub(r'(\\S+\\.(\\w{2,3})\\S+)', ' §w ', re.sub(r'(www.+\\.(\\w{2,3})\\S+)|(wap.+\\.(\\w{2,3})\\S+)', ' §w ', re.sub(r'(htt.+\\.(\\w{2,3})\\S+)', ' §w ', re.sub(r'(0\\d{10})', ' §p ',re.sub(r'(\\w+)@(\\w+)\\.(\\w{2,3})', ' §m ', text.lower())))))))\n"
   ]
  },
  {
   "cell_type": "markdown",
   "metadata": {},
   "source": [
    "Вот отдельно выписанные регулярные выражения, которые там используются:"
   ]
  },
  {
   "cell_type": "code",
   "execution_count": null,
   "metadata": {},
   "outputs": [],
   "source": [
    "re.sub(r'(\\w+)@(\\w+)\\.(\\w{2,3})', ' §m ', string[4:])"
   ]
  },
  {
   "cell_type": "markdown",
   "metadata": {},
   "source": [
    "Выполнится первым и удалит все адреса почты."
   ]
  },
  {
   "cell_type": "code",
   "execution_count": null,
   "metadata": {},
   "outputs": [],
   "source": [
    " re.sub(r'(0\\d{10})', ' §p ', ...)"
   ]
  },
  {
   "cell_type": "markdown",
   "metadata": {},
   "source": [
    "Выполнится вторым (на результате первого) и удалит все номера телефонов."
   ]
  },
  {
   "cell_type": "code",
   "execution_count": null,
   "metadata": {},
   "outputs": [],
   "source": [
    "re.sub(r'(\\S+\\.(\\w{2,3})\\S+)', ' §w ', re.sub(r'(www.+\\.(\\w{2,3})\\S+)|(wap.+\\.(\\w{2,3})\\S+)', ' §w ', re.sub(r'(htt.+\\.(\\w{2,3})\\S+)', ' §w ', ...)))"
   ]
  },
  {
   "cell_type": "markdown",
   "metadata": {},
   "source": [
    "Выполнится далее (на результате второго) и удалит все адреса сайтов (все варианты записи, которые я нашёл)."
   ]
  },
  {
   "cell_type": "code",
   "execution_count": null,
   "metadata": {},
   "outputs": [],
   "source": [
    "re.sub(r'\\d', ' §n ', ...)"
   ]
  },
  {
   "cell_type": "markdown",
   "metadata": {},
   "source": [
    "Выполняется последним и меняет оставшиеся в тексте цифры на спецсимвол"
   ]
  },
  {
   "cell_type": "markdown",
   "metadata": {},
   "source": [
    "Парсим коллекцию."
   ]
  },
  {
   "cell_type": "code",
   "execution_count": 5,
   "metadata": {
    "scrolled": true
   },
   "outputs": [],
   "source": [
    "f = open('SMSSpamCollection/SMSSpamCollection')\n",
    "collection_txt = list()\n",
    "collection_spam = list()\n",
    "c = {'0': set(), '1': set()}\n",
    "for line in f:\n",
    "    if line[:3] == 'ham':\n",
    "        collection_spam.append('0')\n",
    "        text = get_text(line[4:])\n",
    "        c['0'].update(set(text.split()))\n",
    "    else:\n",
    "        collection_spam.append('1')\n",
    "        text = get_text(get_text(line[5:]))\n",
    "        c['1'].update(set(text.split()))\n",
    "    collection_txt.append(text)\n",
    "    \n",
    "    "
   ]
  },
  {
   "cell_type": "markdown",
   "metadata": {},
   "source": [
    "Функция обучения Байесовского классификатора.  \n",
    "Аргументы: \n",
    "+ __С__ - *словарь*, ключи которого есть темы (*spam*/*ham*), а значения - слова, встреченные в соответсвующих темах;\n",
    "+ __N__ - *целое число*, кол-во документов;\n",
    "+ __D_c__ - *список*, список списков, нулевой аргумент - тексты, первый - категории \n",
    "\n",
    "Результат:  \n",
    "+ **prior** - вероятность появления темы\n",
    "+ **condprob** - вероятность каждого слова в каждой теме\n",
    "Классификатор, приведённый ниже, может работать с более, чем двумя темами"
   ]
  },
  {
   "cell_type": "code",
   "execution_count": 6,
   "metadata": {},
   "outputs": [],
   "source": [
    "import progressbar\n",
    "import numpy as np\n",
    "from collections import Counter\n",
    "from ctypes import *\n",
    "\n",
    "def train(c, n, d_c):\n",
    "    # libname = os.path.abspath(os.path.join(os.path.dirname(__file__), \"libmi.so\")) # не работает в Jupiter\n",
    "#     mi = CDLL(libname)\n",
    "    v = set()  \n",
    "    [v.update(set(x)) for x in c.values()] # словарь\n",
    "    # N = len(D)\n",
    "    prior = dict()\n",
    "    condprob = dict()\n",
    "#     array = (c_char_p * len(d_c[1]))()\n",
    "#     array[:] = [s.encode() for s in d_c[1]]\n",
    "    widgets = [progressbar.Percentage(), progressbar.Bar()]\n",
    "    bar = progressbar.ProgressBar(widgets=widgets, max_value=len(c.keys())).start()\n",
    "    i_bar = 0\n",
    "    themes_count = Counter(d_c[1]) # считаем частоты появления тем\n",
    "    for i in c.keys():\n",
    "        prior.update(dict.fromkeys([i], themes_count[i]/n))\n",
    "#         prior.update(\n",
    "#             dict.fromkeys([i], mi.count(array, len(d_c[1]), create_string_buffer(str.encode('|' + i + '|'))) / n))\n",
    "#         mi.count_arr.restype = py_object\n",
    "\n",
    "        # ----------------------------------------\n",
    "        text = ''\n",
    "        text += ' '.join(np.array(d_c[0])[np.isin(np.array(d_c[1]), i.lower())]) # собираем все тексты \n",
    "                                                                                 # из одной категории в один общий\n",
    "#         text += ' '.join([d_c[0][s] for s in\n",
    "#                           mi.count_arr(array, len(d_c[1]), create_string_buffer(str.encode('|' + i + '|')))]).lower()\n",
    "        text = text.split(' ')\n",
    "        # в text собираются тела/заголовки документов, отмеченных темой i\n",
    "        # ----------------------------------------\n",
    "        if len(text) == 0:\n",
    "            continue\n",
    "#         array1 = (c_char_p * len(text))()\n",
    "#         array1[:] = [s.encode() for s in text]\n",
    "#         temp = dict.fromkeys(v)\n",
    "        word_count = Counter(text) # считаем частоты слов в общем тексте\n",
    "#         print(word_count)\n",
    "#         for j in v:\n",
    "#             temp[j] = mi.count(array1, len(text), create_string_buffer(str.encode(j)))\n",
    "        all_ = len(text) + len(v)\n",
    "        condprob[i] = dict()\n",
    "#         condprob.update(dict.fromkeys([i], dict(dict.fromkeys([j], ((temp[j] + 1) / all_)))))\n",
    "#         for x in (v - set([j])):\n",
    "        for x in v:\n",
    "            condprob[i].update(dict.fromkeys([x], ((word_count[x] + 1) / all_))) # вероятность каждого слова в каждой теме\n",
    "#             condprob[i].update(dict.fromkeys([x], ((temp[x] + 1) / all_))) # вероятность каждого слова в каждой теме\n",
    "        bar.update(i_bar)\n",
    "        i_bar += 1\n",
    "    bar.finish()\n",
    "    return prior, condprob\n"
   ]
  },
  {
   "cell_type": "markdown",
   "metadata": {},
   "source": [
    "Функция работы Байесовского классификатора.  \n",
    "Аргументы: \n",
    "+ __С__ - *словарь*, ключи которого есть темы (*spam*/*ham*), а значения - слова, встреченные в соответсвующих темах;\n",
    "+ **prior** - вероятность появления темы (из функции train)\n",
    "+ **condprob** - вероятность каждого слова в каждой теме (из функции train)\n",
    "+ __d__ - текст документа\n",
    "\n",
    "Результат:  \n",
    "+ *текст* - категория, в данной задаче 0 - *ham*, а 1 - *spam*\n",
    "\n",
    "Классификатор, приведённый ниже, может работать с более, чем двумя темами"
   ]
  },
  {
   "cell_type": "code",
   "execution_count": 11,
   "metadata": {},
   "outputs": [],
   "source": [
    "import math\n",
    "import operator\n",
    "def use(c, prior, condprob, d):\n",
    "    body = list()\n",
    "    body = get_text(d)\n",
    "    v = set()\n",
    "    [v.update(set(x)) for x in c.values()]\n",
    "    w = list()\n",
    "    for i in body:\n",
    "        if i in v:\n",
    "            w.append(i)\n",
    "    score = dict()\n",
    "    for i in c.keys():\n",
    "        if prior[i] > 0:\n",
    "            score.update(dict.fromkeys([i], (math.log(prior[i]))))\n",
    "            for j in w:\n",
    "                score[i] += math.log(condprob[i][j])\n",
    "    return max(score.items(), key=operator.itemgetter(1))[0]"
   ]
  },
  {
   "cell_type": "code",
   "execution_count": 8,
   "metadata": {},
   "outputs": [
    {
     "ename": "NameError",
     "evalue": "name 'prior' is not defined",
     "output_type": "error",
     "traceback": [
      "\u001b[0;31m---------------------------------------------------------------------------\u001b[0m",
      "\u001b[0;31mNameError\u001b[0m                                 Traceback (most recent call last)",
      "\u001b[0;32m<ipython-input-8-d320b098d246>\u001b[0m in \u001b[0;36m<module>\u001b[0;34m\u001b[0m\n\u001b[0;32m----> 1\u001b[0;31m \u001b[0muse\u001b[0m\u001b[0;34m(\u001b[0m\u001b[0mc\u001b[0m\u001b[0;34m,\u001b[0m \u001b[0mprior\u001b[0m\u001b[0;34m,\u001b[0m \u001b[0mcondprob\u001b[0m\u001b[0;34m,\u001b[0m \u001b[0mcollection_txt\u001b[0m\u001b[0;34m[\u001b[0m\u001b[0;36m11\u001b[0m\u001b[0;34m]\u001b[0m\u001b[0;34m)\u001b[0m\u001b[0;34m\u001b[0m\u001b[0;34m\u001b[0m\u001b[0m\n\u001b[0m",
      "\u001b[0;31mNameError\u001b[0m: name 'prior' is not defined"
     ]
    }
   ],
   "source": [
    "use(c, prior, condprob, collection_txt[11])"
   ]
  },
  {
   "cell_type": "code",
   "execution_count": 12,
   "metadata": {},
   "outputs": [
    {
     "name": "stderr",
     "output_type": "stream",
     "text": [
      "100%|#########################################################################|\n"
     ]
    }
   ],
   "source": [
    "from sklearn.model_selection import train_test_split\n",
    "x_train, x_test, y_train, y_test = train_test_split(collection_txt, collection_spam)\n",
    "prior, condprob = train(c, 10, [x_train, y_train])"
   ]
  },
  {
   "cell_type": "code",
   "execution_count": 13,
   "metadata": {
    "scrolled": false
   },
   "outputs": [],
   "source": [
    "y_pred = []\n",
    "for i in x_test:\n",
    "    y_pred.append(use(c, prior, condprob, i))"
   ]
  },
  {
   "cell_type": "code",
   "execution_count": 14,
   "metadata": {},
   "outputs": [],
   "source": [
    "count = 0\n",
    "for i in range(len(y_pred)):\n",
    "    count += int(y_pred[i] == y_test[i])"
   ]
  },
  {
   "cell_type": "code",
   "execution_count": 15,
   "metadata": {},
   "outputs": [
    {
     "data": {
      "text/plain": [
       "0.7747489239598279"
      ]
     },
     "execution_count": 15,
     "metadata": {},
     "output_type": "execute_result"
    }
   ],
   "source": [
    "count/len(y_pred)"
   ]
  },
  {
   "cell_type": "markdown",
   "metadata": {},
   "source": [
    "Используем ___F1 - меру___ так как классы не взвешены"
   ]
  },
  {
   "cell_type": "code",
   "execution_count": 16,
   "metadata": {},
   "outputs": [],
   "source": [
    "from sklearn.preprocessing import LabelBinarizer\n",
    "lb = LabelBinarizer()"
   ]
  },
  {
   "cell_type": "code",
   "execution_count": 17,
   "metadata": {},
   "outputs": [
    {
     "data": {
      "text/plain": [
       "0.5796261642942746"
      ]
     },
     "execution_count": 17,
     "metadata": {},
     "output_type": "execute_result"
    }
   ],
   "source": [
    "from sklearn.metrics import roc_auc_score\n",
    "roc_auc_score(lb.fit_transform(y_test), lb.fit_transform(y_pred))"
   ]
  },
  {
   "cell_type": "code",
   "execution_count": 3,
   "metadata": {},
   "outputs": [
    {
     "data": {
      "text/plain": [
       "' §m  May'"
      ]
     },
     "execution_count": 3,
     "metadata": {},
     "output_type": "execute_result"
    }
   ],
   "source": [
    "re.sub(r'(\\d?\\d.?st)|(\\d?\\d.?nd)|(\\d?\\d.?rd)|(\\d?\\d.?th)', ' §m ', '21st May')"
   ]
  },
  {
   "cell_type": "code",
   "execution_count": null,
   "metadata": {},
   "outputs": [],
   "source": []
  }
 ],
 "metadata": {
  "kernelspec": {
   "display_name": "Python 3",
   "language": "python",
   "name": "python3"
  },
  "language_info": {
   "codemirror_mode": {
    "name": "ipython",
    "version": 3
   },
   "file_extension": ".py",
   "mimetype": "text/x-python",
   "name": "python",
   "nbconvert_exporter": "python",
   "pygments_lexer": "ipython3",
   "version": "3.7.1"
  }
 },
 "nbformat": 4,
 "nbformat_minor": 2
}
