{
 "cells": [
  {
   "cell_type": "markdown",
   "metadata": {},
   "source": [
    "Создадим функции преобразования для данных смс. Номера телефонов 11 знаков (пример: 09061701461), есть e-mail'ы и ссылки. Их меняем на токены ('§p' для номера телефона, '§m' для адреса почты, '§w' для ссылки, '§d' для дат)"
   ]
  },
  {
   "cell_type": "code",
   "execution_count": 1,
   "metadata": {},
   "outputs": [],
   "source": [
    "import re\n",
    "def get_text(text):\n",
    "    #return re.sub(r'[^a-z §p§m§w§n§d]', '', re.sub(r'(\\d?\\d.?st)|(\\d?\\d.?nd)|(\\d?\\d.?rd)|(\\d?\\d.?th)', ' §d ',  text.lower()))\n",
    "    #return re.sub(r'(\\d?\\d.?st)|(\\d?\\d.?nd)|(\\d?\\d.?rd)|(\\d?\\d.?th)', ' §d ', re.sub(r'(0\\d{10})', ' §p ', text.lower()))\n",
    "    #return re.sub(r'[^a-z §p§m§w§n§d]', '', re.sub(r'(\\d?\\d.?st)|(\\d?\\d.?nd)|(\\d?\\d.?rd)|(\\d?\\d.?th)', ' §d ', re.sub(r'(0\\d{10})', ' §p ', text.lower())))\n",
    "    #return re.sub(r'[^a-z §p§m§w§n§d]', '', re.sub(r'(\\d?\\d.?st)|(\\d?\\d.?nd)|(\\d?\\d.?rd)|(\\d?\\d.?th)', ' §d ', text.lower()))\n",
    "\n",
    "    #return re.sub(r'[^a-z §p§m§w§n§d]', '', re.sub(r'(\\d?\\d.?st)|(\\d?\\d.?nd)|(\\d?\\d.?rd)|(\\d?\\d.?th)', ' §d ', re.sub(r'(\\S+\\.(\\w{2,3})\\S+)', ' §w ', re.sub(r'(www.+\\.(\\w{2,3})\\S+)|(wap.+\\.(\\w{2,3})\\S+)', ' §w ', re.sub(r'(htt.+\\.(\\w{2,3})\\S+)', ' §w ', re.sub(r'(\\w+)@(\\w+)\\.(\\w{2,3})', ' §m ', text.lower()))))))\n",
    "    #return re.sub(r'[^a-z §p§m§w§n§d]', '', re.sub(r'(\\S+\\.(\\w{2,3})\\S+)', ' §w ', re.sub(r'(www.+\\.(\\w{2,3})\\S+)|(wap.+\\.(\\w{2,3})\\S+)', ' §w ', re.sub(r'(htt.+\\.(\\w{2,3})\\S+)', ' §w ', re.sub(r'(0\\d{10})', ' §p ',re.sub(r'(\\w+)@(\\w+)\\.(\\w{2,3})', ' §m ', text.lower()))))))\n",
    "    return re.sub(r'[^a-z §p§m§w§n§d]', '', re.sub(r'(\\d?\\d.?st)|(\\d?\\d.?nd)|(\\d?\\d.?rd)|(\\d?\\d.?th)', ' §d ', re.sub(r'\\d', ' §n ', re.sub(r'(\\S+\\.(\\w{2,3})\\S+)', ' §w ', re.sub(r'(www.+\\.(\\w{2,3})\\S+)|(wap.+\\.(\\w{2,3})\\S+)', ' §w ', re.sub(r'(htt.+\\.(\\w{2,3})\\S+)', ' §w ', re.sub(r'(0\\d{10})', ' §p ',re.sub(r'(\\w+)@(\\w+)\\.(\\w{2,3})', ' §m ', text.lower()))))))))\n"
   ]
  },
  {
   "cell_type": "markdown",
   "metadata": {},
   "source": [
    "Разные комбинации регулярных выражений (в том же порядке, что и в коде) дают разные результаты на 5-fold validation с roc auc\n",
    "1. 0.5477 (0.9372)\n",
    "2. 0.5003 (0.9298)\n",
    "3. 0.5551 (0.9357)\n",
    "4. 0.5477 (0.9372)\n",
    "5. 0.5513 (0.9345)\n",
    "6. 0.5581 (0.9360)\n",
    "7. 0.4939 (0.9470)\n",
    "\n",
    "Значения в начале - для анализа отдельных слов, в скобках - для словосочетаний\n",
    "\n",
    "Видим, что 7 вариант оптимален, его и будем использовать.\n",
    "Это фильтрация почт, телефонов, сайтов, дат и цифр"
   ]
  },
  {
   "cell_type": "markdown",
   "metadata": {},
   "source": [
    "Вот отдельно выписанные регулярные выражения, которые там используются:"
   ]
  },
  {
   "cell_type": "code",
   "execution_count": null,
   "metadata": {
    "scrolled": true
   },
   "outputs": [],
   "source": [
    "re.sub(r'(\\w+)@(\\w+)\\.(\\w{2,3})', ' §m ', string[4:])"
   ]
  },
  {
   "cell_type": "markdown",
   "metadata": {},
   "source": [
    "Выполнится первым и удалит все адреса почты."
   ]
  },
  {
   "cell_type": "code",
   "execution_count": null,
   "metadata": {},
   "outputs": [],
   "source": [
    " re.sub(r'(0\\d{10})', ' §p ', ...)"
   ]
  },
  {
   "cell_type": "markdown",
   "metadata": {},
   "source": [
    "Выполнится вторым (на результате первого) и удалит все номера телефонов."
   ]
  },
  {
   "cell_type": "code",
   "execution_count": null,
   "metadata": {},
   "outputs": [],
   "source": [
    "re.sub(r'(\\S+\\.(\\w{2,3})\\S+)', ' §w ', re.sub(r'(www.+\\.(\\w{2,3})\\S+)|(wap.+\\.(\\w{2,3})\\S+)', ' §w ', re.sub(r'(htt.+\\.(\\w{2,3})\\S+)', ' §w ', ...)))"
   ]
  },
  {
   "cell_type": "markdown",
   "metadata": {},
   "source": [
    "Выполнится далее (на результате второго) и удалит все адреса сайтов (все варианты записи, которые я нашёл)."
   ]
  },
  {
   "cell_type": "code",
   "execution_count": null,
   "metadata": {},
   "outputs": [],
   "source": [
    "re.sub(r'\\d', ' §n ', ...)"
   ]
  },
  {
   "cell_type": "markdown",
   "metadata": {},
   "source": [
    "Выполняется далее и меняет оставшиеся в тексте цифры на спецсимвол"
   ]
  },
  {
   "cell_type": "code",
   "execution_count": null,
   "metadata": {},
   "outputs": [],
   "source": [
    "re.sub(r'(\\d?\\d.?st)|(\\d?\\d.?nd)|(\\d?\\d.?rd)|(\\d?\\d.?th)', ' §d ', ...)"
   ]
  },
  {
   "cell_type": "markdown",
   "metadata": {},
   "source": [
    "Меняет все даты на спецсимвол"
   ]
  },
  {
   "cell_type": "markdown",
   "metadata": {},
   "source": [
    "Парсим коллекцию."
   ]
  },
  {
   "cell_type": "code",
   "execution_count": 2,
   "metadata": {
    "scrolled": true
   },
   "outputs": [],
   "source": [
    "f = open('SMSSpamCollection/SMSSpamCollection')\n",
    "collection_txt = list()\n",
    "collection_spam = list()\n",
    "for line in f:\n",
    "    if line[:3] == 'ham':\n",
    "        collection_spam.append('0')\n",
    "        text = get_text(line[4:])\n",
    "    else:\n",
    "        collection_spam.append('1')\n",
    "        text = get_text(get_text(line[5:]))\n",
    "    collection_txt.append(text)\n",
    "    \n",
    "    "
   ]
  },
  {
   "cell_type": "markdown",
   "metadata": {},
   "source": [
    "Функция инициализации Байесовского классификатора. \n",
    "Создаёт пустые поля **prior** и __condprob__ . \n",
    "+ __С__ - *словарь*, ключи которого есть темы (*spam*/*ham*), а значения - слова, встреченные в соответсвующих темах;\n"
   ]
  },
  {
   "cell_type": "markdown",
   "metadata": {},
   "source": [
    "Функция обучения Байесовского классификатора.  \n",
    "Аргументы: \n",
    "+ **x_** - _список_, список текстов;\n",
    "+ **y_** _список_, список категорий \n",
    "\n",
    "Результат (сохраняется внутри модели, функция не возвращает ничего):  \n",
    "+ **prior** - вероятность появления темы\n",
    "+ **condprob** - вероятность каждого слова в каждой теме\n"
   ]
  },
  {
   "cell_type": "markdown",
   "metadata": {},
   "source": [
    "Функция работы Байесовского классификатора.  \n",
    "Аргументы: \n",
    "+ __d__ - текст документа\n",
    "\n",
    "Результат:  \n",
    "+ *текст* - категория, в данной задаче 0 - *ham*, а 1 - *spam*\n",
    "\n",
    "Классификатор, приведённый здесь, может работать с более, чем двумя темами\n",
    "Если попытаться запустить классификатор без обучения (с пустыми **prior** и **condprob**) случится RuntimeError"
   ]
  },
  {
   "cell_type": "code",
   "execution_count": 3,
   "metadata": {},
   "outputs": [],
   "source": [
    "import progressbar\n",
    "import numpy as np\n",
    "from collections import Counter\n",
    "from ctypes import *\n",
    "import math\n",
    "import operator\n",
    "\n",
    "class naive_Bayes:\n",
    "    def __init__(self, c = None):\n",
    "        self.c = c\n",
    "        self.prior = None\n",
    "        self.condprob = None\n",
    "    \n",
    "    def __get_w(self, i, j):\n",
    "        a = self.condprob[i][j]\n",
    "        if a is None:\n",
    "            return 1\n",
    "        else:\n",
    "            return a\n",
    "    \n",
    "    def fit(self, x_, y_):\n",
    "        if len(x_) == len(y_):\n",
    "            n = len(x_)\n",
    "        else:\n",
    "            raise RuntimeError('Invalid arguments')\n",
    "        v = set()  \n",
    "        if self.c == None:\n",
    "            self.c = {'0': set(), '1': set()}\n",
    "            for i in range(n):\n",
    "                words = x_[i].split(' ')\n",
    "                if y_[i] == '0':\n",
    "#                    self.c['0'].update(set(x_[i].split(' ')))\n",
    "                    self.c['0'].update(set(tuple(zip([''] + words, words))))\n",
    "                else:\n",
    "#                    self.c['1'].update(set(y_[i].split(' ')))\n",
    "                    self.c['1'].update(set(tuple(zip([''] + words, words))))\n",
    "        \n",
    "        [v.update(set(x)) for x in self.c.values()] # словарь\n",
    "        self.prior = dict()\n",
    "        self.condprob = dict()\n",
    "        widgets = [progressbar.Percentage(), progressbar.Bar()]\n",
    "        bar = progressbar.ProgressBar(widgets=widgets, max_value=len(self.c.keys())).start()\n",
    "        i_bar = 0\n",
    "        themes_count = Counter(y_) # считаем частоты появления тем\n",
    "        for i in self.c.keys():\n",
    "            self.prior.update(dict.fromkeys([i], themes_count[i]/n))\n",
    "        # ----------------------------------------\n",
    "            text = ''\n",
    "            text += ' '.join(np.array(x_)[np.isin(np.array(y_), i)]) # собираем все тексты \n",
    "                                                                                 # из одной категории в один общий\n",
    "            text = text.split(' ')\n",
    "            text = list(tuple(zip([''] + text, text)))\n",
    "            #text = list(tuple(zip([''] + [''] + text, [''] + text, text)))\n",
    "        # в text собираются тела/заголовки документов, отмеченных темой i\n",
    "        # ----------------------------------------\n",
    "            if len(text) == 0:\n",
    "                continue\n",
    "            word_count = Counter(text) # считаем частоты слов в общем тексте\n",
    "            all_ = len(text) + len(v)\n",
    "            self.condprob[i] = dict()\n",
    "            for x in v:\n",
    "                self.condprob[i].update(dict.fromkeys([x], ((word_count[x] + 1) / all_))) # вероятность каждого слова в каждой теме\n",
    "            bar.update(i_bar)\n",
    "            i_bar += 1\n",
    "        bar.finish()\n",
    "    \n",
    "    def use(self, d):\n",
    "        if self.prior == None:\n",
    "            raise RuntimeError('Model is not fitted!') \n",
    "        body = get_text(d).split()\n",
    "        v = set()\n",
    "        [v.update(set(x)) for x in self.c.values()]\n",
    "        w = list()\n",
    "        got_text = list(tuple(zip([''] + body, body)))\n",
    "        #got_text = list(tuple(zip([''] + [''] + text, [''] + text, text)))\n",
    "        for i in got_text:\n",
    "            if i in v:\n",
    "                w.append(i)\n",
    "        score = dict()\n",
    "        for i in self.c.keys():\n",
    "            if self.prior[i] > 0:\n",
    "                score.update(dict.fromkeys([i], (math.log(self.prior[i]))))\n",
    "                for j in w:\n",
    "                    score[i] += math.log(self.__get_w(i,j)) #self.condprob[i][j]\n",
    "        return max(score.items(), key=operator.itemgetter(1))[0]\n",
    "    \n",
    "    def predict(self, arr):\n",
    "        return [self.use(i) for i in arr]\n",
    "    \n",
    "    def get_params(self, deep=True): # Сделано только что бы cross_val_score работал\n",
    "        return dict()\n",
    "    \n",
    "    \n"
   ]
  },
  {
   "cell_type": "code",
   "execution_count": 4,
   "metadata": {},
   "outputs": [],
   "source": [
    "clf = naive_Bayes()"
   ]
  },
  {
   "cell_type": "markdown",
   "metadata": {},
   "source": [
    "Посчитаем _accuracy_, чтобы убедится, что модель работает, хотя эта оценка некорректна для данной задачи"
   ]
  },
  {
   "cell_type": "code",
   "execution_count": 5,
   "metadata": {
    "scrolled": false
   },
   "outputs": [
    {
     "name": "stderr",
     "output_type": "stream",
     "text": [
      "100%|#########################################################################|\n",
      "100%|#########################################################################|\n",
      "100%|#########################################################################|\n",
      "100%|#########################################################################|\n",
      "100%|#########################################################################|\n"
     ]
    }
   ],
   "source": [
    "from sklearn.model_selection import cross_val_score\n",
    "scores = cross_val_score(clf, collection_txt,collection_spam,scoring = 'accuracy',cv=5)"
   ]
  },
  {
   "cell_type": "code",
   "execution_count": 6,
   "metadata": {},
   "outputs": [
    {
     "name": "stdout",
     "output_type": "stream",
     "text": [
      "E: 0.9813422321694535\n",
      "+/-: 0.0027420732982051796\n"
     ]
    }
   ],
   "source": [
    "print('E: ' + str(scores.mean()))\n",
    "print('+/-: '+ str(scores.std()))"
   ]
  },
  {
   "cell_type": "markdown",
   "metadata": {},
   "source": [
    "Используем ___roc auc - меру___ так как классы не взвешены"
   ]
  },
  {
   "cell_type": "code",
   "execution_count": 7,
   "metadata": {},
   "outputs": [],
   "source": [
    "from sklearn.metrics import roc_auc_score\n",
    "from sklearn.preprocessing import LabelBinarizer\n",
    "\n",
    "lb1 = LabelBinarizer()\n",
    "lb2 = LabelBinarizer()\n",
    "\n",
    "def scorer(estimator, X, y):\n",
    "    return roc_auc_score(lb1.fit_transform(y), lb2.fit_transform(estimator.predict(X)))\n"
   ]
  },
  {
   "cell_type": "code",
   "execution_count": 8,
   "metadata": {},
   "outputs": [
    {
     "name": "stderr",
     "output_type": "stream",
     "text": [
      "100%|#########################################################################|\n",
      "100%|#########################################################################|\n",
      "100%|#########################################################################|\n",
      "100%|#########################################################################|\n",
      "100%|#########################################################################|\n"
     ]
    }
   ],
   "source": [
    "from sklearn.model_selection import cross_val_score\n",
    "scores = cross_val_score(clf, collection_txt,collection_spam,scoring = scorer,cv=5)"
   ]
  },
  {
   "cell_type": "code",
   "execution_count": 9,
   "metadata": {},
   "outputs": [
    {
     "name": "stdout",
     "output_type": "stream",
     "text": [
      "E: 0.9470261415091349\n",
      "+/-: 0.007136154443564596\n"
     ]
    }
   ],
   "source": [
    "print('E: ' + str(scores.mean()))\n",
    "print('+/-: '+ str(scores.std()))"
   ]
  },
  {
   "cell_type": "markdown",
   "metadata": {},
   "source": [
    "Использование словосочетаний вместо отдельных слов позволило увеличить точность с 55% до 94%"
   ]
  },
  {
   "cell_type": "markdown",
   "metadata": {},
   "source": [
    "Для сравнения запустим Байесовский классификатор из sklearn. Рассмотрим также ___roc auc - меру___ "
   ]
  },
  {
   "cell_type": "code",
   "execution_count": 10,
   "metadata": {
    "scrolled": false
   },
   "outputs": [],
   "source": [
    "from sklearn.feature_extraction.text import CountVectorizer\n",
    "vect = CountVectorizer()\n",
    "collection_txt2 = vect.fit_transform(collection_txt)\n",
    "\n",
    "from sklearn.naive_bayes import MultinomialNB\n",
    "clfsk = MultinomialNB()\n",
    "\n",
    "scores = cross_val_score(clfsk, collection_txt2,collection_spam,scoring = 'roc_auc',cv=5)"
   ]
  },
  {
   "cell_type": "code",
   "execution_count": 11,
   "metadata": {},
   "outputs": [
    {
     "name": "stdout",
     "output_type": "stream",
     "text": [
      "E: 0.9780678472547855\n",
      "+/-: 0.010415535712565515\n"
     ]
    }
   ],
   "source": [
    "print('E: ' + str(scores.mean()))\n",
    "print('+/-: '+ str(scores.std()))"
   ]
  },
  {
   "cell_type": "markdown",
   "metadata": {},
   "source": [
    "И для сравнения _accuracy_"
   ]
  },
  {
   "cell_type": "code",
   "execution_count": 12,
   "metadata": {},
   "outputs": [],
   "source": [
    "scores = cross_val_score(clfsk, collection_txt2,collection_spam,scoring = 'accuracy',cv=5)"
   ]
  },
  {
   "cell_type": "code",
   "execution_count": 13,
   "metadata": {},
   "outputs": [
    {
     "name": "stdout",
     "output_type": "stream",
     "text": [
      "E: 0.9741633044407122\n",
      "+/-: 0.0031470785675313745\n"
     ]
    }
   ],
   "source": [
    "print('E: ' + str(scores.mean()))\n",
    "print('+/-: '+ str(scores.std()))"
   ]
  },
  {
   "cell_type": "markdown",
   "metadata": {},
   "source": [
    "__ВЫВОД:__ написанный собственноручно метод уступает на 3% аналогу из библиотеки по roc-auc метрике, а по accuracy даже немного превосходит"
   ]
  }
 ],
 "metadata": {
  "kernelspec": {
   "display_name": "Python 3",
   "language": "python",
   "name": "python3"
  },
  "language_info": {
   "codemirror_mode": {
    "name": "ipython",
    "version": 3
   },
   "file_extension": ".py",
   "mimetype": "text/x-python",
   "name": "python",
   "nbconvert_exporter": "python",
   "pygments_lexer": "ipython3",
   "version": "3.7.1"
  }
 },
 "nbformat": 4,
 "nbformat_minor": 2
}
